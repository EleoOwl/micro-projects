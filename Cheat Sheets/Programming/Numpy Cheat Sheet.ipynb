{
 "cells": [
  {
   "cell_type": "markdown",
   "metadata": {},
   "source": [
    "<div style=\"text-align: right\">\n",
    "by Igor Vustianiuk <br>\n",
    "Odessa ML Club\n",
    "</div>\n",
    "\n",
    "<center> <h1>Numpy Cheat Sheet</h1> </center>\n",
    "\n",
    "* [Built-in Constants](#Built-in-Constants)<br>\n",
    "* [Array creation](#Array-creation)<br>\n",
    "* [Basic attributes](#Basic-attributes)<br>\n",
    "* [Broadcasting and universal functions](#Broadcasting-and-universal-functions)<br>\n",
    "* [Mathematical functions](#Mathematical-functions)<br>\n",
    "* [Logical functions](#Logical-functions)<br>\n",
    "    * [Basic logical operators](#Basic-logical-operators)<br>\n",
    "    * [array_equal and array_equiv](#array_equal-and-array_equiv)<br>\n",
    "    * [isclose and allclose](#isclose-and-allclose)<br>\n",
    "    * [all and any](#all-and-any)<br>\n",
    "* [Other useful functions]()<br>\n",
    "    * [reshape](#reshape)<br>\n",
    "    * [count_nonzero](#count_nonzero)<br>\n",
    "    * [clip](#clip)<br>\n",
    "    * [ravel and squeeze](#ravel-and-squeeze)<br>\n",
    "    * [nditer](#nditer)<br>\n",
    "* [Random sampling](#Random-sampling)<br>\n",
    "    * [Setting the seed for random number generator](#Setting-the-seed-for-random-number-generator)<br>\n",
    "    * [Shuffling the array](#Shuffling-the-array)<br>\n",
    "    * [Sampling from an array](#Sampling-from-an-array)<br>\n",
    "* [Indexing](#Indexing)<br>"
   ]
  },
  {
   "cell_type": "code",
   "execution_count": 1,
   "metadata": {},
   "outputs": [],
   "source": [
    "import numpy as np"
   ]
  },
  {
   "cell_type": "markdown",
   "metadata": {},
   "source": [
    "<center> <h3>Built-in Constants</h3> </center>"
   ]
  },
  {
   "cell_type": "code",
   "execution_count": 2,
   "metadata": {},
   "outputs": [
    {
     "data": {
      "text/plain": [
       "3.141592653589793"
      ]
     },
     "execution_count": 2,
     "metadata": {},
     "output_type": "execute_result"
    }
   ],
   "source": [
    "np.e     # Euler's constant: 2.71828...\n",
    "np.inf   # positive infinity as defined by IEEE 754\n",
    "np.nan   # Not A Number as defined by IEEE 754\n",
    "np.pi    # Good old pi: 3.1415..."
   ]
  },
  {
   "cell_type": "markdown",
   "metadata": {},
   "source": [
    "<center> <h3>Array creation</h3> </center>"
   ]
  },
  {
   "cell_type": "code",
   "execution_count": 3,
   "metadata": {},
   "outputs": [],
   "source": [
    "# Arrays from lists\n",
    "a1 = np.array([0, 1, 2])\n",
    "a2 = np.array([[0, 1, 2, 3], [4, 5, 6, 7]])\n",
    "\n",
    "# Empty arrays of given shape (filled with whatever lives in memory)\n",
    "a3 = np.empty((3,))\n",
    "a4 = np.empty((2, 4))\n",
    "a5 = np.empty_like(a1)  # same shape and dtype as a1\n",
    "\n",
    "# Zeros\n",
    "a6 = np.zeros((2, 4))\n",
    "a7 = np.ones((2, 4))\n",
    "a8 = np.zeros_like(a1)  # same shape and dtype as a1\n",
    "a9 = np.ones_like(a1)   # same shape and dtype as a1\n",
    "\n",
    "# Identity matrix (square matrix, ones on diagonal, zeros everywhere else)\n",
    "a10 = np.identity(n=3)\n",
    "\n",
    "# Random arrays\n",
    "N = 10**4  # resulting shape: can be int or tuple of ints\n",
    "a11= np.random.random(size=N)  # same as uniform(low=0, high=1)\n",
    "a12 = np.random.uniform(low=-1, high=1, size=N)\n",
    "a13 = np.random.normal(loc=0, scale=3, size=N)\n",
    "a14 = np.random.binomial(n=100, p=0.3, size=N)\n",
    "a15 = np.random.randint(low=0, high=5, size=N) # high value is exclusive\n",
    "\n",
    "# Explicit data type specification\n",
    "a16 = np.zeros(10, dtype=np.int32)\n",
    "\n",
    "# Python's `range` extended to floats\n",
    "# right end might be included in some cases when step is float\n",
    "a17 = np.arange(3)               # [0, 1, 2]\n",
    "a18 = np.arange(1, 5, 2)         # [1, 3]\n",
    "a19 = np.arange(0.5, 0.8, 0.1)   # [0.5, 0.6, 0.7, 0.8]\n",
    "a20 = np.arange(0.5, 0.8, 0.17)  # [0.5, 0.67]\n",
    "\n",
    "# Mesh grid\n",
    "X = np.array([1, 2, 3])\n",
    "Y = np.array([4, 5])\n",
    "M = np.meshgrid(X, Y)"
   ]
  },
  {
   "cell_type": "markdown",
   "metadata": {},
   "source": [
    "<center> <h3>Basic attributes</h3> </center>\n",
    "\n",
    "[top](#Numpy-Cheat-Sheet)\n",
    "\n",
    "```\n",
    ">>> a = np.array([0, 1, 2, 3, 4, 5], dtype=np.float16)\n",
    ">>> b = np.array([\n",
    "      [ 0, 1,   2, 3],\n",
    "      [ 4, 5,   6, 7],\n",
    "      [ 8, 9,  10, 11],\n",
    "      [12, 13, 14, 15]\n",
    "    ])\n",
    "\n",
    ">>> print(a.dtype)     # float16\n",
    ">>> print(a.ndim)      # 1\n",
    ">>> print(a.shape)     # (6,)\n",
    ">>> print(a.size)      # 6\n",
    ">>> print(a.itemsize)  # 4\n",
    ">>> print(a.nbytes)    # 24\n",
    "\n",
    ">>> print(b.dtype)     # int32\n",
    ">>> print(b.ndim)      # 2\n",
    ">>> print(b.shape)     # (4, 4)\n",
    ">>> print(b.size)      # 16\n",
    ">>> print(b.itemsize)  # 4\n",
    ">>> print(b.nbytes)    # 64\n",
    "```"
   ]
  },
  {
   "cell_type": "markdown",
   "metadata": {},
   "source": [
    "<center> <h3>Broadcasting and universal functions</h3> </center>"
   ]
  },
  {
   "cell_type": "markdown",
   "metadata": {},
   "source": [
    "A **universal function** (or **ufunc** for short) is a function that operates on ndarrays in an element-by-element fashion, supporting **array broadcasting**.\n",
    "\n",
    "Each universal function takes array inputs and produces array outputs by performing the core function element-wise on the inputs. Standard broadcasting rules are applied so that inputs not sharing exactly the same shapes can still be usefully operated on.\n",
    "\n",
    "Broadcasting effectively unifies the shape of all input arrays. The *final* shape is defined by two rules:\n",
    "1. final `ndim` is equal to the maximum `ndim` among input arrays; all input arrays with `ndim` smaller than the largest `ndim` among them, have 1’s prepended to their shapes;\n",
    "2. the size in each dimension of the final shape is the maximum of all the input sizes in that dimension.\n",
    "\n",
    "If input arrays have shapes (4,), (1, 4) and (3, 1). Then $\\text{ndim} = \\max(1, 2, 2) = 2$. According to the 1st rule first array's shape will be transformed to (1, 3). The *final shape* as defined by 2nd rule is $\\left( \\max(1, 1, 3), \\max(4, 4, 1) \\right) = (3, 4) $.\n",
    "\n",
    "The third rule defines whether input arrays can be transformed to arrays of the final shape:\n",
    "3. an input array can be transformed if its size in any particular dimension either matches the final size for this dimension or equals 1;\n",
    "\n",
    "Finally the fourth rule defines how the transformation should be done:\n",
    "4. if an input array has a dimension size of 1 in its shape (after prepending ones if required by the 1st rule), the first data entry in that dimension will be used for all calculations along that dimension."
   ]
  },
  {
   "cell_type": "code",
   "execution_count": 4,
   "metadata": {},
   "outputs": [
    {
     "name": "stdout",
     "output_type": "stream",
     "text": [
      "1 (4,)\n",
      "2 (1, 4)\n",
      "2 (3, 1)\n",
      "2 (3, 4)\n"
     ]
    }
   ],
   "source": [
    "A = np.array([1, 2, 3, 4])\n",
    "print(A.ndim, A.shape)\n",
    "\n",
    "B = np.array([[1, 2, 3, 4]])\n",
    "print(B.ndim, B.shape)\n",
    "\n",
    "C = np.array([[1], [2], [3]])\n",
    "print(C.ndim, C.shape)\n",
    "\n",
    "Z = np.broadcast(A, B, C)\n",
    "print(Z.ndim, Z.shape)"
   ]
  },
  {
   "cell_type": "code",
   "execution_count": 5,
   "metadata": {},
   "outputs": [
    {
     "name": "stdout",
     "output_type": "stream",
     "text": [
      "[1 2 3 4]\n",
      "[[1 2 3 4]\n",
      " [1 2 3 4]\n",
      " [1 2 3 4]]\n",
      "\n",
      "[[1 2 3 4]]\n",
      "[[1 2 3 4]\n",
      " [1 2 3 4]\n",
      " [1 2 3 4]]\n",
      "\n",
      "[[1]\n",
      " [2]\n",
      " [3]]\n",
      "[[1 1 1 1]\n",
      " [2 2 2 2]\n",
      " [3 3 3 3]]\n",
      "\n"
     ]
    }
   ],
   "source": [
    "U, V, W = np.broadcast_arrays(A, B, C)\n",
    "print(A)\n",
    "print(U)\n",
    "print()\n",
    "print(B)\n",
    "print(V)\n",
    "print()\n",
    "print(C)\n",
    "print(W)\n",
    "print()"
   ]
  },
  {
   "cell_type": "code",
   "execution_count": 6,
   "metadata": {},
   "outputs": [
    {
     "data": {
      "text/plain": [
       "array([[1, 2, 3, 4],\n",
       "       [1, 2, 3, 4],\n",
       "       [1, 2, 3, 4]])"
      ]
     },
     "execution_count": 6,
     "metadata": {},
     "output_type": "execute_result"
    }
   ],
   "source": [
    "np.broadcast_to(A, (3, 4))"
   ]
  },
  {
   "cell_type": "markdown",
   "metadata": {},
   "source": [
    "Let's see an example of arrays that can't be broadcasted. For arrays with shapes (3,) and (1,4)  the final shape must be (1,4) and the intermediate shape of the first array is (1,3) violating the 3d rule of broadcasting."
   ]
  },
  {
   "cell_type": "code",
   "execution_count": 7,
   "metadata": {},
   "outputs": [],
   "source": [
    "# A = np.array([1, 2, 3])\n",
    "# B = np.array([[1, 2, 3, 4]])\n",
    "# np.broadcast(A, B)"
   ]
  },
  {
   "cell_type": "markdown",
   "metadata": {},
   "source": [
    "It should be noticed that universal functions are usually much faster than equivalent code that uses Python's built-in for loops."
   ]
  },
  {
   "cell_type": "code",
   "execution_count": 8,
   "metadata": {},
   "outputs": [],
   "source": [
    "N = 10**5\n",
    "A = np.random.random(size=N)\n",
    "B = np.random.random(size=N)\n",
    "\n",
    "C1 = np.zeros(N)\n",
    "for i in range(N):\n",
    "    C1[i] = A[i] + B[i]\n",
    "C2 = A + B\n",
    "assert(np.array_equal(C1, C2))  # Yeah, the results are the same. What about speed?"
   ]
  },
  {
   "cell_type": "code",
   "execution_count": 9,
   "metadata": {},
   "outputs": [
    {
     "name": "stdout",
     "output_type": "stream",
     "text": [
      "49.8 ms ± 761 µs per loop (mean ± std. dev. of 7 runs, 10 loops each)\n"
     ]
    }
   ],
   "source": [
    "%%timeit\n",
    "for i in range(N):\n",
    "    C1[i] = A[i] + B[i]"
   ]
  },
  {
   "cell_type": "code",
   "execution_count": 10,
   "metadata": {},
   "outputs": [
    {
     "name": "stdout",
     "output_type": "stream",
     "text": [
      "109 µs ± 1.33 µs per loop (mean ± std. dev. of 7 runs, 10000 loops each)\n"
     ]
    }
   ],
   "source": [
    "%%timeit\n",
    "C2 = A + B"
   ]
  },
  {
   "cell_type": "markdown",
   "metadata": {},
   "source": [
    "To avoid problems with broadcasting many ufuncs have parameter `keepdims` which forces their output to have same shape as their input."
   ]
  },
  {
   "cell_type": "code",
   "execution_count": 11,
   "metadata": {},
   "outputs": [
    {
     "name": "stdout",
     "output_type": "stream",
     "text": [
      "[5 7 9]\n",
      "[[5 7 9]]\n",
      "\n",
      "[ 6 15]\n",
      "[[ 6]\n",
      " [15]]\n"
     ]
    }
   ],
   "source": [
    "A = np.array([[1, 2, 3], [4, 5, 6]])\n",
    "print(A.sum(axis=0))\n",
    "print(A.sum(axis=0, keepdims=True))\n",
    "print()\n",
    "print(A.sum(axis=1))\n",
    "print(A.sum(axis=1, keepdims=True))"
   ]
  },
  {
   "cell_type": "markdown",
   "metadata": {},
   "source": [
    "<center> <h3>Mathematical functions</h3> </center>\n",
    "\n",
    "[top](#Numpy-Cheat-Sheet)\n",
    "    \n",
    "Here's a list of most common mathematical functions available in `numpy`. All the functions listed below work element-wise: they are applied to each element of an array. They are called `universal functions` or `ufuncs`.\n",
    "\n",
    "* standard arithmetic:\n",
    "\n",
    "| short operator | equivalent ufunc |\n",
    "| --- | --- |\n",
    "| + | `add` |\n",
    "| - | `subtract` (binary), `negative` (unary) |\n",
    "| * | `multiply` |\n",
    "| / | `divide` |\n",
    "| ** | `power` |\n",
    "\n",
    "* absolute value: `abs`\n",
    "* trigonometry: `sin`, `cos`, `tan`, `arcsin`, `arccos`, `arctan`\n",
    "* hyperbolic: just add 'h': `sinh`, `cosh`, `tanh`, `arcsinh`, `arccosh`, `arctanh`\n",
    "* angles: `arctan2`, `deg2rad`, `rad2deg` (1 rad = 180 deg / pi)\n",
    "* min/max in array: `min(x)`, `max(x)`; same as `x.min()`, `x.max()`\n",
    "* min/max between arrays: `minimum(x, y)`, `maximum(x, y)` where `x` and `y` are arrays: `minimum([1, 2], [2, 1]) --> [2, 2]`)\n",
    "* standard logarithms: `log` (base-e), `log2`, `log10`\n",
    "* exponent: `exp`\n",
    "* roots: `sqrt`, `cbrt`\n",
    "* tests for nan/inf: `isfinite`, `isinf`, `isnan`, `isneginf`, `isposinf`\n",
    "* for available linear algebra functions see [np.linalg](https://docs.scipy.org/doc/numpy/reference/routines.linalg.html)"
   ]
  },
  {
   "cell_type": "code",
   "execution_count": 12,
   "metadata": {},
   "outputs": [
    {
     "name": "stdout",
     "output_type": "stream",
     "text": [
      "4\n"
     ]
    }
   ],
   "source": [
    "# Dot product\n",
    "x = np.array([1, 2, 3])\n",
    "y = np.array([-3, 2, 1])\n",
    "print(np.dot(x, y))"
   ]
  },
  {
   "cell_type": "code",
   "execution_count": 13,
   "metadata": {},
   "outputs": [
    {
     "name": "stdout",
     "output_type": "stream",
     "text": [
      "[5 7 9]\n",
      "[5 7 9]\n",
      "[5 7 9]\n",
      "\n",
      "[ 6 15]\n",
      "[ 6 15]\n",
      "[ 6 15]\n",
      "\n",
      "[[1 2 3]\n",
      " [4 5 6]]\n",
      "[[1 2 3]\n",
      " [4 5 6]]\n",
      "[[1 2 3]\n",
      " [4 5 6]]\n"
     ]
    }
   ],
   "source": [
    "# Matrix-vector and matrix-matrix multiplication\n",
    "A = np.array([[1, 2, 3], [4, 5, 6]])  \n",
    "x_left = np.array([1, 1])                \n",
    "x_right = np.array([1, 1, 1])         \n",
    "B = np.identity(3, dtype=np.int32)\n",
    "\n",
    "print(x_left @ A)\n",
    "print(np.matmul(x_left, A))\n",
    "print(np.dot(x_left, A))\n",
    "print()\n",
    "print(A @ x_right)\n",
    "print(np.matmul(A, x_right))\n",
    "print(np.dot(A, x_right))\n",
    "print()\n",
    "print(A @ B)\n",
    "print(np.matmul(A, B))\n",
    "print(np.dot(A, B))  # two above methods are recomended instead of this"
   ]
  },
  {
   "cell_type": "markdown",
   "metadata": {},
   "source": [
    "<center> <h3>Logical functions</h3> </center>\n",
    "\n",
    "[top](#Numpy-Cheat-Sheet)\n",
    "\n",
    "<center> <h4>Basic logical operators</h4> </center>\n",
    "\n",
    "| short operator | equivalent ufunc |\n",
    "| --- | --- |\n",
    "| < | less |\n",
    "| ⩽ | less_equal |\n",
    "| > | greater |\n",
    "| ⩾ | greater_equal |\n",
    "| == | equal |\n",
    "| != | not_equal |\n",
    "| ~ | logical_not |\n",
    "| & | logical_and |\n",
    "| | | logical_or |\n",
    "| ^ | logical_xor |"
   ]
  },
  {
   "cell_type": "code",
   "execution_count": 14,
   "metadata": {},
   "outputs": [
    {
     "name": "stdout",
     "output_type": "stream",
     "text": [
      "a: [1 4 1 3 3 2]\n",
      "b: [2 4 3 2 4 3]\n",
      "\n",
      "a == b:         [False  True False False False False]\n",
      "a < b:          [ True False  True False  True  True]\n",
      "a % 2 == 0:     [False  True False False False  True]\n",
      "a % 2 != b % 2: [ True False False  True  True  True]\n",
      "\n",
      "c1: [False False  True  True]\n",
      "c2: [False  True False  True]\n",
      "~c1: [ True  True False False]\n",
      "c1 | c2: [False  True  True  True]\n",
      "c1 & c2: [False False False  True]\n",
      "c1 ^ c2: [False  True  True False]\n"
     ]
    }
   ],
   "source": [
    "np.random.seed(33)\n",
    "\n",
    "a = np.random.randint(1, 5, size=6)\n",
    "b = np.random.randint(1, 5, size=6)\n",
    "print('a:', a)                            \n",
    "print('b:', b)\n",
    "print()\n",
    "\n",
    "print('a == b:        ', a == b)\n",
    "print('a < b:         ', a < b)\n",
    "print('a % 2 == 0:    ', a % 2 == 0)\n",
    "print('a % 2 != b % 2:', a % 2 != b % 2)\n",
    "print()\n",
    "\n",
    "c1 = np.array([False, False, True, True])\n",
    "c2 = np.array([False, True, False, True])\n",
    "print('c1:', c1)\n",
    "print('c2:', c2)\n",
    "print('~c1:', ~c1)\n",
    "print('c1 | c2:', c1 | c2)\n",
    "print('c1 & c2:', c1 & c2)\n",
    "print('c1 ^ c2:', c1 ^ c2)"
   ]
  },
  {
   "cell_type": "markdown",
   "metadata": {},
   "source": [
    "<center> <h4>array_equal and array_equiv</h4> </center>"
   ]
  },
  {
   "cell_type": "code",
   "execution_count": 15,
   "metadata": {},
   "outputs": [
    {
     "name": "stdout",
     "output_type": "stream",
     "text": [
      "False\n",
      "[ True  True  True]\n",
      "True\n"
     ]
    }
   ],
   "source": [
    "x = np.array([1, 2, 3])\n",
    "y = np.array([1, 2, 3])\n",
    "print(x is y)                 # two different objects!\n",
    "print(x == y)                 # element-wise comparison (equal/unequal)\n",
    "print(np.array_equal(x, y))   # are all elements equal?"
   ]
  },
  {
   "cell_type": "markdown",
   "metadata": {},
   "source": [
    "`array_equiv(a1, a2)` returns True if input arrays are shape consistent and all elements equal.\n",
    "\n",
    "**Shape consistent** means they are either the same shape, or one input array can be broadcasted to create the same shape as the other one."
   ]
  },
  {
   "cell_type": "code",
   "execution_count": 16,
   "metadata": {},
   "outputs": [
    {
     "name": "stdout",
     "output_type": "stream",
     "text": [
      "True\n",
      "False\n"
     ]
    }
   ],
   "source": [
    "x = np.array([1, 2, 3])\n",
    "y1 = x.reshape(1, -1)\n",
    "y2 = x.reshape(-1, 1)\n",
    "\n",
    "print(np.array_equiv(x, y1))\n",
    "print(np.array_equiv(x, y2))"
   ]
  },
  {
   "cell_type": "markdown",
   "metadata": {},
   "source": [
    "<center> <h4>isclose and allclose</h4> </center>"
   ]
  },
  {
   "cell_type": "markdown",
   "metadata": {},
   "source": [
    "Floating-point arithmetic can hurt the equality. `numpy`'s way to compare floating-point arrays is given by `isclose` and `allclose` functions.\n",
    "\n",
    "`allclose` works element-wise and `i`-th element equals True if\n",
    "\n",
    "$$ \\left|x[i] - y[i]\\right| <= \\text{atol} + \\text{rtol} \\left|y[i]\\right| $$\n",
    "\n",
    "where user can specify the values of `atol`, `rtol` and default values are\n",
    "\n",
    "$$ \\text{atol} = 10^{-5}, \\text{rtol} = 10^{-8} $$\n",
    "\n",
    "It is strongly not recommended to use this function with default values for numbers much less than one.\n",
    "\n",
    "<br>\n",
    "\n",
    "`isclose` returns True if all values returned by `allclose` are True."
   ]
  },
  {
   "cell_type": "code",
   "execution_count": 17,
   "metadata": {},
   "outputs": [
    {
     "name": "stdout",
     "output_type": "stream",
     "text": [
      "[2.48510127 4.49975421 4.10940803 2.60299691 8.70395688]\n",
      "[1.85039927 0.19661425 9.53252032 6.80450805 4.86588127]\n",
      "[2.48512613 4.49979921 4.10944912 2.60302294 8.70404392]\n",
      "\n",
      "[False False False False False]\n",
      "False\n",
      "\n",
      "[ True  True  True  True  True]\n",
      "True\n",
      "\n",
      "[ True  True False  True  True]\n",
      "False\n"
     ]
    }
   ],
   "source": [
    "np.random.seed(33)\n",
    "\n",
    "x = 10 * np.random.random(size=5)\n",
    "y1 = 10 * np.random.random(size=5)\n",
    "y2 = (1 + 1e-5) * x\n",
    "y3 = y2.copy()\n",
    "y3[2] += 1\n",
    "print(x)\n",
    "print(y1)\n",
    "print(y2)\n",
    "print()\n",
    "\n",
    "print(np.isclose(x, y1))\n",
    "print(np.allclose(x, y1))\n",
    "print()\n",
    "print(np.isclose(x, y2))\n",
    "print(np.allclose(x, y2))\n",
    "print()\n",
    "print(np.isclose(x, y3))\n",
    "print(np.allclose(x, y3))"
   ]
  },
  {
   "cell_type": "markdown",
   "metadata": {},
   "source": [
    "<center><h4>all and any</h4></center>\n",
    "\n",
    "`all` tests whether all array elements along a given axis evaluate to True.\n",
    "\n",
    "`any` tests whether at least one of array elements along a given axis evaluates to True.\n",
    "\n",
    "If `axis=None` then both functions work with all array elements (not any particular axis)."
   ]
  },
  {
   "cell_type": "code",
   "execution_count": 18,
   "metadata": {},
   "outputs": [
    {
     "name": "stdout",
     "output_type": "stream",
     "text": [
      "False\n",
      "True\n"
     ]
    }
   ],
   "source": [
    "a = np.array([1, 2, 2, 2, 3])\n",
    "print(np.all(a % 2 == 0))\n",
    "print(np.any(a % 2 == 0))"
   ]
  },
  {
   "cell_type": "markdown",
   "metadata": {},
   "source": [
    "<center> <h3>Other useful functions</h3> </center>\n",
    "\n",
    "[top](#Numpy-Cheat-Sheet)"
   ]
  },
  {
   "cell_type": "markdown",
   "metadata": {},
   "source": [
    "<center><h4>reshape</h4></center>"
   ]
  },
  {
   "cell_type": "code",
   "execution_count": 19,
   "metadata": {},
   "outputs": [
    {
     "name": "stdout",
     "output_type": "stream",
     "text": [
      "[[0 1 2]\n",
      " [3 4 5]]\n",
      "\n",
      "[[0]\n",
      " [1]\n",
      " [2]\n",
      " [3]\n",
      " [4]\n",
      " [5]]\n",
      "\n",
      "[[0 1 2 3 4 5]]\n",
      "\n"
     ]
    }
   ],
   "source": [
    "a = np.array([0, 1, 2, 3, 4, 5])\n",
    "b = np.array([\n",
    "      [ 0, 1,   2, 3],\n",
    "      [ 4, 5,   6, 7],\n",
    "      [ 8, 9,  10, 11],\n",
    "      [12, 13, 14, 15]\n",
    "    ])\n",
    "\n",
    "print(a.reshape((2, 3)), end='\\n\\n')  # same as np.reshape(array, shape)\n",
    "print(a.reshape(-1, 1), end='\\n\\n')   \n",
    "print(a.reshape((1, -1)), end='\\n\\n')"
   ]
  },
  {
   "cell_type": "markdown",
   "metadata": {},
   "source": [
    "<center><h4>count_nonzero</h4></center>"
   ]
  },
  {
   "cell_type": "code",
   "execution_count": 20,
   "metadata": {},
   "outputs": [
    {
     "name": "stdout",
     "output_type": "stream",
     "text": [
      "[1 0 0 0 0 1 1 0 0 0]\n",
      "3\n"
     ]
    }
   ],
   "source": [
    "x = np.random.binomial(n=1, p=0.3, size=10)\n",
    "print(x)\n",
    "print(np.count_nonzero(x))"
   ]
  },
  {
   "cell_type": "markdown",
   "metadata": {},
   "source": [
    "<center><h4>clip</h4></center>"
   ]
  },
  {
   "cell_type": "code",
   "execution_count": 21,
   "metadata": {},
   "outputs": [
    {
     "name": "stdout",
     "output_type": "stream",
     "text": [
      "[2 3 4 5 6]\n"
     ]
    }
   ],
   "source": [
    "a = np.array([0, 3, 4, 5, 8])\n",
    "print(a.clip(2, 6))"
   ]
  },
  {
   "cell_type": "markdown",
   "metadata": {},
   "source": [
    "<center><h4>ravel and squeeze</h4></center>\n",
    "\n",
    "`ravel(x)` flattens the array to 1-dimensional (returns new array).\n",
    "`squeeze(x)` removes single-dimensional entries from the shape of an array (returns view)."
   ]
  },
  {
   "cell_type": "code",
   "execution_count": 22,
   "metadata": {},
   "outputs": [
    {
     "name": "stdout",
     "output_type": "stream",
     "text": [
      "[[1 2 3]\n",
      " [4 5 6]]\n",
      "[1 2 3 4 5 6]\n",
      "\n",
      "[[[[[1]\n",
      "    [2]\n",
      "    [3]]\n",
      "\n",
      "   [[4]\n",
      "    [5]\n",
      "    [6]]]]]\n",
      "[1 2 3 4 5 6]\n",
      "[[1 2 3]\n",
      " [4 5 6]]\n"
     ]
    }
   ],
   "source": [
    "x1 = np.array([[1, 2, 3], [4, 5, 6]])\n",
    "x2 = x1.reshape(1, 1, 2, 3, 1)\n",
    "\n",
    "print(x1)\n",
    "print(x1.ravel())\n",
    "print()\n",
    "\n",
    "print(x2)\n",
    "print(x2.ravel())\n",
    "print(x2.squeeze())"
   ]
  },
  {
   "cell_type": "markdown",
   "metadata": {},
   "source": [
    "<center><h4>nditer</h4></center>"
   ]
  },
  {
   "cell_type": "code",
   "execution_count": 23,
   "metadata": {},
   "outputs": [
    {
     "name": "stdout",
     "output_type": "stream",
     "text": [
      "[1 2 3]\n",
      "[4 5 6]\n",
      "\n",
      "1\n",
      "2\n",
      "3\n",
      "4\n",
      "5\n",
      "6\n"
     ]
    }
   ],
   "source": [
    "a = np.array([[1, 2, 3], [4, 5, 6]])\n",
    "\n",
    "for x in a:\n",
    "    print(x)\n",
    "print()\n",
    "\n",
    "for x in np.nditer(a):  # for 1d arrays it's faster to use `for x in a`\n",
    "    print(x)"
   ]
  },
  {
   "cell_type": "markdown",
   "metadata": {},
   "source": [
    "<center> <h3>Random sampling</h3> </center>\n",
    "\n",
    "[top](#Numpy-Cheat-Sheet)\n",
    "\n",
    "<center> <h4>Setting the seed for random number generator</h4> </center>"
   ]
  },
  {
   "cell_type": "code",
   "execution_count": 24,
   "metadata": {},
   "outputs": [
    {
     "name": "stdout",
     "output_type": "stream",
     "text": [
      "[3 4 3 2 5]\n",
      "[4 4 4 2 3]\n",
      "\n",
      "[5 1 3 3 2]\n",
      "[5 1 3 3 2]\n"
     ]
    }
   ],
   "source": [
    "# Always make your research reproducible! For random sampling this means setting the `seed`\n",
    "\n",
    "# Without setting the seed\n",
    "print(np.random.randint(1, 6, size=5))\n",
    "print(np.random.randint(1, 6, size=5))\n",
    "print()\n",
    "\n",
    "# With setting the seed\n",
    "np.random.seed(33)\n",
    "print(np.random.randint(1, 6, size=5))\n",
    "np.random.seed(33)\n",
    "print(np.random.randint(1, 6, size=5))"
   ]
  },
  {
   "cell_type": "markdown",
   "metadata": {},
   "source": [
    "<center> <h4>Shuffling the array</h4> </center>"
   ]
  },
  {
   "cell_type": "code",
   "execution_count": 25,
   "metadata": {},
   "outputs": [
    {
     "name": "stdout",
     "output_type": "stream",
     "text": [
      "[7 4 8 5 7]\n",
      "\n",
      "[[10  3  7]\n",
      " [ 8  5  4]\n",
      " [ 8  8  3]\n",
      " [ 6  5  2]]\n"
     ]
    }
   ],
   "source": [
    "np.random.seed(42)\n",
    "x = np.random.randint(1, 11, size=5)\n",
    "print(x)\n",
    "print()\n",
    "y = np.random.randint(1, 11, size=(4, 3))\n",
    "print(y)"
   ]
  },
  {
   "cell_type": "code",
   "execution_count": 26,
   "metadata": {},
   "outputs": [
    {
     "name": "stdout",
     "output_type": "stream",
     "text": [
      "[7 8 7 4 5]\n",
      "\n",
      "[[ 8  5  4]\n",
      " [ 8  8  3]\n",
      " [10  3  7]\n",
      " [ 6  5  2]]\n"
     ]
    }
   ],
   "source": [
    "# `shuffle(x)` performs in-place random shuffling of `x` along the first axis\n",
    "\n",
    "np.random.shuffle(x)\n",
    "print(x)\n",
    "print()\n",
    "\n",
    "np.random.shuffle(y)  # Notice that rows are intact, only their order is changed\n",
    "print(y)"
   ]
  },
  {
   "cell_type": "code",
   "execution_count": 27,
   "metadata": {},
   "outputs": [
    {
     "name": "stdout",
     "output_type": "stream",
     "text": [
      "[7 7 5 8 4]\n",
      "[7 8 7 4 5]\n",
      "\n",
      "[1 2 4 0 3]\n"
     ]
    }
   ],
   "source": [
    "# `permutation(x)` performs random shuffling of `x` along the first axis and returns new array\n",
    "\n",
    "x1 = np.random.permutation(x)\n",
    "print(x1)\n",
    "print(x)  # Notice that `x` is the same as before\n",
    "print()\n",
    "\n",
    "print(np.random.permutation(5))  # same as passing np.arange(5)"
   ]
  },
  {
   "cell_type": "markdown",
   "metadata": {},
   "source": [
    "<center> <h4>Sampling from an array</h4> </center>"
   ]
  },
  {
   "cell_type": "code",
   "execution_count": 28,
   "metadata": {},
   "outputs": [
    {
     "name": "stdout",
     "output_type": "stream",
     "text": [
      "['♦6' '♥K' '♦Q' '♦2' '♥J' '♥8' '♥4']\n",
      "['♦5' '♠J' '♥7' '♠A' '♣2' '♥6' '♠2']\n",
      "['♣8' '♠4' '♠10' '♦9' '♠Q' '♣4' '♣K']\n",
      "['♥10' '♣2' '♣6' '♦J' '♦8' '♦A' '♦9']\n",
      "['♥9' '♥K' '♣9' '♠Q' '♠A' '♦J' '♣3']\n"
     ]
    }
   ],
   "source": [
    "# Generating poker combinations\n",
    "import itertools\n",
    "\n",
    "all_suits = ['♦', '♣', '♥', '♠']\n",
    "all_ranks = ['2', '3', '4', '5', '6', '7', '8', '9', '10', 'J', 'Q', 'K', 'A']\n",
    "cards = itertools.product(all_suits, all_ranks)  # cartesian product of suits and ranks\n",
    "cards = [x + y for (x, y) in cards]              # all possible cards\n",
    "\n",
    "for i in range(5):\n",
    "    print(np.random.choice(cards, replace=False, size=7))"
   ]
  },
  {
   "cell_type": "code",
   "execution_count": 29,
   "metadata": {},
   "outputs": [
    {
     "name": "stdout",
     "output_type": "stream",
     "text": [
      "[1 3 1 5 2 2 2 3 5 1]\n",
      "[4 1 4 1 5 4 3 1 1 4]\n",
      "[3 3 5 3 3 3 2 5 1 4]\n",
      "[1 5 4 5 3 4 3 1 1 4]\n",
      "[4 5 5 3 4 1 5 5 1 5]\n"
     ]
    }
   ],
   "source": [
    "# Sampling with replacement\n",
    "data = np.array(range(1, 6))\n",
    "for i in range(5):\n",
    "    print(np.random.choice(data, size=10))  # replace=True is the default value"
   ]
  },
  {
   "cell_type": "code",
   "execution_count": 30,
   "metadata": {},
   "outputs": [
    {
     "name": "stdout",
     "output_type": "stream",
     "text": [
      "p0 = 0.2445,  p1 = 0.5085,  p2 = 0.2470\n",
      "p0 = 0.2495,  p1 = 0.5079,  p2 = 0.2426\n",
      "p0 = 0.2422,  p1 = 0.5036,  p2 = 0.2542\n",
      "p0 = 0.2504,  p1 = 0.5026,  p2 = 0.2470\n",
      "p0 = 0.2448,  p1 = 0.5021,  p2 = 0.2531\n"
     ]
    }
   ],
   "source": [
    "# Sampling with non-uniform probabilities\n",
    "\n",
    "# Two coins are thrown independently. Head is 0, tail is 1.\n",
    "# Probabilities of sum: P(0) = P(2) = 0.25, P(1) = 0.5\n",
    "\n",
    "vals = np.array([0, 1, 2])\n",
    "prob = np.array([0.25, 0.5, 0.25])\n",
    "N = 10000\n",
    "for i in range(5):\n",
    "    s = np.random.choice(vals, size=N, p=prob)\n",
    "    p0 = np.count_nonzero(s == 0) / N\n",
    "    p1 = np.count_nonzero(s == 1) / N\n",
    "    p2 = np.count_nonzero(s == 2) / N\n",
    "    print('p0 = {:.4f},  p1 = {:.4f},  p2 = {:.4f}'.format(p0, p1, p2))"
   ]
  },
  {
   "cell_type": "markdown",
   "metadata": {},
   "source": [
    "<center> <h3>Indexing</h3> </center>\n",
    "\n",
    "[top](#Numpy-Cheat-Sheet)\n",
    "\n",
    "```\n",
    ">>> a = np.array([0, 1, 2, 3, 4, 5])\n",
    ">>> b = np.array([\n",
    "      [ 0, 1,   2, 3],\n",
    "      [ 4, 5,   6, 7],\n",
    "      [ 8, 9,  10, 11],\n",
    "      [12, 13, 14, 15]\n",
    "    ])\n",
    "```\n",
    "\n",
    "* element-wise:\n",
    "    ```\n",
    "    >>> a[1]     # 1\n",
    "    \n",
    "    >>> b[1][1]  # 5\n",
    "    >>> b[1, 1]  # 5\n",
    "    >>> b[1]     # [4, 5, 6, 7]\n",
    "    >>> b[4]     # IndexError: out of bounds\n",
    "    ```\n",
    "* slices:\n",
    "    ```\n",
    "    >>> a[::-1]      # [5, 4, 3, 2, 1, 0]\n",
    "    >>> a[1::2]  # [1, 3, 5]\n",
    "    \n",
    "    >>> b[:, 0]      # [0, 4], 1d-array\n",
    "    >>> b[0, :]      # [0, 1, 2, 3], 1d-array\n",
    "    >>> b[1:3, :2]   # [[4, 5], [8, 9]], 2d-array\n",
    "    >>> b[-2:, -2:]  # [[10, 11], [14, 15]], 2d-array\n",
    "    ```\n",
    "* logical masks:\n",
    "    ```\n",
    "    >>> a % 2 == 0        # [True, False, True, False, True, False]\n",
    "    >>> a[a % 2 == 0]     # [0, 2, 4]\n",
    "    \n",
    "    >>> b[b**2 % 7 == 1]  # [1, 6, 8, 13, 15]\n",
    "    ```\n",
    "* fancy:\n",
    "    * accepts one array for each dimension of the original array\n",
    "    * broadcasts their shapes to common shape S\n",
    "    * the result of indexing has shape S\n",
    "    * what happens next? see the example below\n",
    "    ```\n",
    "    >>> ix = np.array([-1, 1, 1, -1])\n",
    "    >>> a[ix]   # [5, 1, 1, 5]    \n",
    "    \n",
    "    >>> ix = np.array([[1, 2, 3], [-1, -2, -3]])\n",
    "    >>> a[ix]   # [[1, 2, 3], [5, 4, 3]]    \n",
    "    \n",
    "    >>> ix_1 = [1, 1, 2]\n",
    "    >>> ix_2 = [1, 1, 2]\n",
    "    >>> b[ix_1, ix_2]   # [b[1,1], b[1,1], b[2,2]] = [5, 5, 10]\n",
    "    \n",
    "    >>> ix_1 = [[0, 1], [2, 3]]\n",
    "    >>> ix_2 = [1, 2]  -->  [[1, 2], [1, 2]]\n",
    "    >>> b[ix_1, ix_2] = [[b[0,1], b[1,2]], [b[2,1], b[3,2]]] = [[1, 6], [9, 14]]\n",
    "    ```\n",
    "* four methods described above can be mixed: each axis can have its own method\n",
    "    * play with it"
   ]
  },
  {
   "cell_type": "code",
   "execution_count": 31,
   "metadata": {},
   "outputs": [
    {
     "name": "stdout",
     "output_type": "stream",
     "text": [
      "[[1 2 3]\n",
      " [4 5 6]]\n"
     ]
    }
   ],
   "source": [
    "# Indexing can be used not only for values extraction but also to modify an array:\n",
    "x = np.array([[1, 2, 3], [4, 5, 6]])\n",
    "x[x % 2 == 1] = 50\n",
    "print(a)"
   ]
  },
  {
   "cell_type": "code",
   "execution_count": 32,
   "metadata": {},
   "outputs": [
    {
     "name": "stdout",
     "output_type": "stream",
     "text": [
      "[100   2]\n",
      "[[100   2   3]\n",
      " [  4   5   6]]\n"
     ]
    }
   ],
   "source": [
    "# It should be noticed that slicing returns a `view` of the original array\n",
    "# and modification of `view` modifies the array\n",
    "x = np.array([[1, 2, 3], [4, 5, 6]])\n",
    "y = x[0, :2]\n",
    "y[0] = 100\n",
    "print(y)\n",
    "print(x)"
   ]
  },
  {
   "cell_type": "code",
   "execution_count": 34,
   "metadata": {},
   "outputs": [
    {
     "name": "stdout",
     "output_type": "stream",
     "text": [
      "[100   2]\n",
      "[[1 2 3]\n",
      " [4 5 6]]\n"
     ]
    }
   ],
   "source": [
    "# To extract new array with slicing `.copy()` method can be used\n",
    "x = np.array([[1, 2, 3], [4, 5, 6]])\n",
    "y = x.copy()[0, :2]\n",
    "y[0] = 100\n",
    "print(y)\n",
    "print(x)"
   ]
  }
 ],
 "metadata": {
  "kernelspec": {
   "display_name": "ml36",
   "language": "python",
   "name": "ml36"
  },
  "language_info": {
   "codemirror_mode": {
    "name": "ipython",
    "version": 3
   },
   "file_extension": ".py",
   "mimetype": "text/x-python",
   "name": "python",
   "nbconvert_exporter": "python",
   "pygments_lexer": "ipython3",
   "version": "3.6.7"
  }
 },
 "nbformat": 4,
 "nbformat_minor": 2
}
