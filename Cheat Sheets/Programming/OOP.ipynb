{
 "cells": [
  {
   "cell_type": "code",
   "execution_count": 2,
   "metadata": {},
   "outputs": [],
   "source": [
    "from enum import Enum"
   ]
  },
  {
   "cell_type": "code",
   "execution_count": 3,
   "metadata": {},
   "outputs": [],
   "source": [
    "class Modes(Enum):\n",
    "     Real=1\n",
    "     Complex=2"
   ]
  },
  {
   "cell_type": "markdown",
   "metadata": {},
   "source": [
    "<h3>Объявление класса<h3>"
   ]
  },
  {
   "cell_type": "code",
   "execution_count": 39,
   "metadata": {},
   "outputs": [],
   "source": [
    "class Func():\n",
    "    mode = None\n",
    "    \n",
    "    def __init__(self, a,b,c = None):\n",
    "        self.a = a\n",
    "        self.b = b\n",
    "        self.formula = \"y =\"+str(self.a)+\"x+\"+str(self.b)\n",
    "        if (c is not None):\n",
    "            self.c = c\n",
    "            self.formula = \"f =\"+str(a)+\"x+\"+str(b)+\"y+\"+str(c)\n",
    "        else:\n",
    "            self.c = None\n",
    "            \n",
    "    def valuate(self, x,y = None):\n",
    "        if y is None:\n",
    "            self.value = self.a*x+self.b\n",
    "        else:\n",
    "            self.value = self.a*x + self.b*y+self.c\n",
    "            \n",
    "    def __add__(self, other):\n",
    "        if self.c is None: \n",
    "            return Func(self.a + other.a, self.b + other.b )\n",
    "        else: \n",
    "            return Func(self.a + other.a, self.b + other.b,self.c + other.c  )\n",
    "           \n",
    "            \n",
    "    def changeModeLocal(f):\n",
    "        if f is True:\n",
    "            mode = Modes.Complex\n",
    "        else:\n",
    "            mode = Modes.Real\n",
    "        print(\"\\nLocal:\")\n",
    "        print(mode) \n",
    "        \n",
    "    def changeNonLocal(f):\n",
    "        def do (f):\n",
    "            nonlocal mode\n",
    "            if f is True:\n",
    "                mode = Modes.Complex\n",
    "            else:\n",
    "                mode = Modes.Real\n",
    "        mode = Modes.Real\n",
    "        do(True)\n",
    "        print(\"\\nNonLocal:\")\n",
    "        print(mode) \n",
    "    #@staticmethod    \n",
    "    def globalChanges(f):\n",
    "        global mode\n",
    "        if f is True:\n",
    "                mode = Modes.Complex\n",
    "        else:\n",
    "                mode = Modes.Real\n",
    "                \n",
    "    def globalChangesByObject(self, f):\n",
    "        global mode\n",
    "        if f is True:\n",
    "            mode = Modes.Complex\n",
    "        else:\n",
    "            mode = Modes.Real"
   ]
  },
  {
   "cell_type": "code",
   "execution_count": 7,
   "metadata": {},
   "outputs": [
    {
     "name": "stdout",
     "output_type": "stream",
     "text": [
      "y =2x+4\n",
      "12\n"
     ]
    }
   ],
   "source": [
    "y1 = Func(2,4)\n",
    "print(y1.formula)\n",
    "#print(y1.value)\n",
    "y1.valuate(4)\n",
    "print(y1.value)"
   ]
  },
  {
   "cell_type": "code",
   "execution_count": 8,
   "metadata": {},
   "outputs": [
    {
     "name": "stdout",
     "output_type": "stream",
     "text": [
      "y =2x+3\n",
      "y =4x+7\n",
      "7\n"
     ]
    }
   ],
   "source": [
    "y2 = Func(2,3)\n",
    "y = y1+y2\n",
    "print(y2.formula)\n",
    "print(y.formula)\n",
    "y.valuate(0)\n",
    "print(y.value)"
   ]
  },
  {
   "cell_type": "markdown",
   "metadata": {},
   "source": [
    "<h1>Область видимости<h2>"
   ]
  },
  {
   "cell_type": "code",
   "execution_count": 10,
   "metadata": {},
   "outputs": [],
   "source": [
    "mode = Modes.Real"
   ]
  },
  {
   "cell_type": "code",
   "execution_count": 40,
   "metadata": {},
   "outputs": [
    {
     "name": "stdout",
     "output_type": "stream",
     "text": [
      "Before\n",
      "Modes.Complex\n",
      "\n",
      "Local:\n",
      "Modes.Complex\n",
      "\n",
      "After Local changes\n",
      "Modes.Complex\n",
      "\n",
      "NonLocal:\n",
      "Modes.Complex\n",
      "\n",
      "After NonLocal changes\n",
      "Modes.Complex\n",
      "\n",
      "After Global changes\n",
      "Modes.Complex\n"
     ]
    }
   ],
   "source": [
    "print (\"Before\")\n",
    "print(mode)\n",
    "Func.changeModeLocal(True)\n",
    "print (\"\\nAfter Local changes\")\n",
    "print (mode)\n",
    "Func.changeNonLocal(True)\n",
    "print (\"\\nAfter NonLocal changes\")\n",
    "print (mode)\n",
    "print (\"\\nAfter Global changes\")\n",
    "Func.globalChanges(True)\n",
    "print (mode)"
   ]
  },
  {
   "cell_type": "code",
   "execution_count": 69,
   "metadata": {},
   "outputs": [
    {
     "name": "stdout",
     "output_type": "stream",
     "text": [
      "None\n"
     ]
    }
   ],
   "source": [
    "print(Func.mode)"
   ]
  },
  {
   "cell_type": "code",
   "execution_count": 15,
   "metadata": {},
   "outputs": [],
   "source": [
    "import numpy as np\n",
    "import pandas as pd"
   ]
  },
  {
   "cell_type": "markdown",
   "metadata": {},
   "source": [
    "<h2>      Инкапсуляция           <h2>"
   ]
  },
  {
   "cell_type": "code",
   "execution_count": 16,
   "metadata": {},
   "outputs": [],
   "source": [
    "import random"
   ]
  },
  {
   "cell_type": "code",
   "execution_count": 17,
   "metadata": {},
   "outputs": [],
   "source": [
    "class LittleTensor():\n",
    "    def __init__(self, arr):\n",
    "        self.__arr = np.asarray(arr)\n",
    "        #self.arr = np.array[]\n",
    "    def getArray(self):\n",
    "        return self.__arr\n",
    "    def __mul__(self, other):\n",
    "        return LittleTensor( self.getArray()*other.getArray() )\n",
    "    "
   ]
  },
  {
   "cell_type": "code",
   "execution_count": 18,
   "metadata": {},
   "outputs": [
    {
     "data": {
      "text/plain": [
       "array([1, 4, 3, 6, 3])"
      ]
     },
     "execution_count": 18,
     "metadata": {},
     "output_type": "execute_result"
    }
   ],
   "source": [
    "lel = LittleTensor([1,4,3,6,3])\n",
    "lel.getArray()"
   ]
  },
  {
   "cell_type": "code",
   "execution_count": 19,
   "metadata": {},
   "outputs": [
    {
     "data": {
      "text/plain": [
       "array([ 3, 24,  9, 24,  3])"
      ]
     },
     "execution_count": 19,
     "metadata": {},
     "output_type": "execute_result"
    }
   ],
   "source": [
    "(lel*(LittleTensor([3,6,3,4,1]))).getArray()"
   ]
  },
  {
   "cell_type": "code",
   "execution_count": 23,
   "metadata": {},
   "outputs": [],
   "source": [
    "lel._LittleTensor__arr = np.array([1,1])\n"
   ]
  },
  {
   "cell_type": "code",
   "execution_count": 24,
   "metadata": {},
   "outputs": [
    {
     "name": "stdout",
     "output_type": "stream",
     "text": [
      "[1 1]\n"
     ]
    }
   ],
   "source": [
    "print(lel.getArray())"
   ]
  },
  {
   "cell_type": "markdown",
   "metadata": {},
   "source": [
    "<h2> Наследование <h2>"
   ]
  },
  {
   "cell_type": "markdown",
   "metadata": {},
   "source": [
    "Все методы в Python изначально виртуальные, соответственно, могут переопределяться классом-наследником. Реализация потенциально переопределенного метода выбирается непосредственно при выполнении программы"
   ]
  },
  {
   "cell_type": "code",
   "execution_count": null,
   "metadata": {},
   "outputs": [],
   "source": [
    "# goto ENUM :)"
   ]
  },
  {
   "cell_type": "code",
   "execution_count": 25,
   "metadata": {},
   "outputs": [],
   "source": [
    "class Exp(Func):\n",
    "    def __init__(self, a,b,c = None):\n",
    "        self.a = a\n",
    "        self.b = b\n",
    "        self.formula = \"y =\"+str(self.a)+\"e^x+\"+str(self.b)\n",
    "        if (c is not None):\n",
    "            self.c = c\n",
    "            self.formula = \"f =\"+str(a)+\"e^x+\"+str(b)+\"e^y+\"+str(c)\n",
    "        else:\n",
    "            self.c = None\n",
    "    "
   ]
  },
  {
   "cell_type": "code",
   "execution_count": 26,
   "metadata": {},
   "outputs": [
    {
     "data": {
      "text/plain": [
       "'y =2e^x+5'"
      ]
     },
     "execution_count": 26,
     "metadata": {},
     "output_type": "execute_result"
    }
   ],
   "source": [
    "e1 = Exp(2,5)\n",
    "e1.formula"
   ]
  },
  {
   "cell_type": "code",
   "execution_count": 27,
   "metadata": {},
   "outputs": [
    {
     "data": {
      "text/plain": [
       "'y =4x+6'"
      ]
     },
     "execution_count": 27,
     "metadata": {},
     "output_type": "execute_result"
    }
   ],
   "source": [
    "e2 = Exp(2,1)\n",
    "e = e1+e2\n",
    "e.formula"
   ]
  },
  {
   "cell_type": "markdown",
   "metadata": {},
   "source": [
    "<h2>      Полиморфизм           <h2>"
   ]
  },
  {
   "cell_type": "code",
   "execution_count": 102,
   "metadata": {},
   "outputs": [
    {
     "name": "stdout",
     "output_type": "stream",
     "text": [
      "Modes.Complex\n"
     ]
    }
   ],
   "source": [
    "print(mode)"
   ]
  },
  {
   "cell_type": "code",
   "execution_count": 28,
   "metadata": {},
   "outputs": [],
   "source": [
    "def doStrangeThings(self):\n",
    "    self.a = 0\n",
    "    self.b = 0\n",
    "    self.formula = \"oooooooooops\"\n",
    "    super(Exp, self).globalChangesByObject(False)"
   ]
  },
  {
   "cell_type": "code",
   "execution_count": 30,
   "metadata": {},
   "outputs": [
    {
     "name": "stdout",
     "output_type": "stream",
     "text": [
      "y =5e^x+1\n",
      "oooooooooops\n",
      "Modes.Real\n"
     ]
    }
   ],
   "source": [
    "Exp.goCrazy = doStrangeThings\n",
    "\n",
    "#e.goCrazy()\n",
    "new_e = Exp(5,1)\n",
    "print(new_e.formula)\n",
    "new_e.goCrazy()\n",
    "print(new_e.formula)\n",
    "print(mode)"
   ]
  },
  {
   "cell_type": "markdown",
   "metadata": {},
   "source": [
    "<h2>Множественное наследование<h2>"
   ]
  },
  {
   "cell_type": "code",
   "execution_count": 33,
   "metadata": {},
   "outputs": [],
   "source": [
    "class A():\n",
    "     def do(self):\n",
    "        print (\"A\")\n",
    "class B():\n",
    "     def do(self):\n",
    "        print(B)\n",
    "class C(B,A):\n",
    "    pass"
   ]
  },
  {
   "cell_type": "code",
   "execution_count": 34,
   "metadata": {},
   "outputs": [
    {
     "name": "stdout",
     "output_type": "stream",
     "text": [
      "<class '__main__.B'>\n"
     ]
    }
   ],
   "source": [
    "c = C()\n",
    "c.do()"
   ]
  },
  {
   "cell_type": "code",
   "execution_count": 42,
   "metadata": {},
   "outputs": [],
   "source": [
    "from abc import ABC, abstractmethod\n",
    " \n",
    "class Operation(ABC):\n",
    "    \n",
    "    @abstractmethod\n",
    "    def run(self):\n",
    "        pass"
   ]
  },
  {
   "cell_type": "code",
   "execution_count": 43,
   "metadata": {},
   "outputs": [
    {
     "ename": "TypeError",
     "evalue": "Can't instantiate abstract class Operation with abstract methods run",
     "output_type": "error",
     "traceback": [
      "\u001b[1;31m---------------------------------------------------------------------------\u001b[0m",
      "\u001b[1;31mTypeError\u001b[0m                                 Traceback (most recent call last)",
      "\u001b[1;32m<ipython-input-43-2c5726a50b1c>\u001b[0m in \u001b[0;36m<module>\u001b[1;34m\u001b[0m\n\u001b[1;32m----> 1\u001b[1;33m \u001b[0ma\u001b[0m \u001b[1;33m=\u001b[0m \u001b[0mOperation\u001b[0m\u001b[1;33m(\u001b[0m\u001b[1;33m)\u001b[0m\u001b[1;33m\u001b[0m\u001b[1;33m\u001b[0m\u001b[0m\n\u001b[0m",
      "\u001b[1;31mTypeError\u001b[0m: Can't instantiate abstract class Operation with abstract methods run"
     ]
    }
   ],
   "source": [
    "a = Operation()"
   ]
  },
  {
   "cell_type": "code",
   "execution_count": 35,
   "metadata": {},
   "outputs": [
    {
     "name": "stdout",
     "output_type": "stream",
     "text": [
      "The Zen of Python, by Tim Peters\n",
      "\n",
      "Beautiful is better than ugly.\n",
      "Explicit is better than implicit.\n",
      "Simple is better than complex.\n",
      "Complex is better than complicated.\n",
      "Flat is better than nested.\n",
      "Sparse is better than dense.\n",
      "Readability counts.\n",
      "Special cases aren't special enough to break the rules.\n",
      "Although practicality beats purity.\n",
      "Errors should never pass silently.\n",
      "Unless explicitly silenced.\n",
      "In the face of ambiguity, refuse the temptation to guess.\n",
      "There should be one-- and preferably only one --obvious way to do it.\n",
      "Although that way may not be obvious at first unless you're Dutch.\n",
      "Now is better than never.\n",
      "Although never is often better than *right* now.\n",
      "If the implementation is hard to explain, it's a bad idea.\n",
      "If the implementation is easy to explain, it may be a good idea.\n",
      "Namespaces are one honking great idea -- let's do more of those!\n"
     ]
    }
   ],
   "source": [
    "import this"
   ]
  },
  {
   "cell_type": "code",
   "execution_count": null,
   "metadata": {},
   "outputs": [],
   "source": []
  }
 ],
 "metadata": {
  "kernelspec": {
   "display_name": "Python 3",
   "language": "python",
   "name": "python3"
  },
  "language_info": {
   "codemirror_mode": {
    "name": "ipython",
    "version": 3
   },
   "file_extension": ".py",
   "mimetype": "text/x-python",
   "name": "python",
   "nbconvert_exporter": "python",
   "pygments_lexer": "ipython3",
   "version": "3.7.1"
  }
 },
 "nbformat": 4,
 "nbformat_minor": 2
}
