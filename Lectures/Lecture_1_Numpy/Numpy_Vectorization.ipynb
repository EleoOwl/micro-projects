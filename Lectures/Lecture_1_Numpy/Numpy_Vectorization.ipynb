{
 "cells": [
  {
   "cell_type": "code",
   "execution_count": 44,
   "metadata": {},
   "outputs": [
    {
     "data": {
      "text/plain": [
       "array([ True, False,  True, ...,  True, False,  True])"
      ]
     },
     "execution_count": 44,
     "metadata": {},
     "output_type": "execute_result"
    }
   ],
   "source": [
    "\n",
    "import numpy as np\n",
    "from timeit import timeit\n",
    "\n",
    "# Example 1\n",
    "\n",
    "np.random.seed(444)\n",
    "\n",
    "x = np.random.choice([False, True], size=100000)\n",
    "\n",
    "x\n"
   ]
  },
  {
   "cell_type": "code",
   "execution_count": 45,
   "metadata": {},
   "outputs": [
    {
     "data": {
      "text/plain": [
       "24984"
      ]
     },
     "execution_count": 45,
     "metadata": {},
     "output_type": "execute_result"
    }
   ],
   "source": [
    "def count_transitions(x) -> int: # for-loop form\n",
    "    \n",
    "    count = 0\n",
    "    \n",
    "    for i, j in zip(x[:-1], x[1:]):\n",
    "        \n",
    "        if j and not i:\n",
    "            \n",
    "            count += 1\n",
    "            \n",
    "    return count\n",
    "\n",
    "#----------------------------------------------\n",
    "\n",
    "count_transitions(x)"
   ]
  },
  {
   "cell_type": "code",
   "execution_count": 46,
   "metadata": {},
   "outputs": [
    {
     "data": {
      "text/plain": [
       "24984"
      ]
     },
     "execution_count": 46,
     "metadata": {},
     "output_type": "execute_result"
    }
   ],
   "source": [
    " np.count_nonzero( x[:-1] < x[1:] ) # vectorized form"
   ]
  },
  {
   "cell_type": "code",
   "execution_count": 47,
   "metadata": {},
   "outputs": [
    {
     "name": "stdout",
     "output_type": "stream",
     "text": [
      "Speed difference: 73.6x\n"
     ]
    }
   ],
   "source": [
    "setup = 'from __main__ import count_transitions, x; import numpy as np'\n",
    "\n",
    "num = 1000\n",
    "\n",
    "t1 = timeit('count_transitions(x)', setup = setup, number = num)\n",
    "t2 = timeit('np.count_nonzero(x[:-1] < x[1:])', setup = setup, number = num)\n",
    "\n",
    "print('Speed difference: {:0.1f}x'.format(t1 / t2))"
   ]
  },
  {
   "cell_type": "code",
   "execution_count": 48,
   "metadata": {},
   "outputs": [
    {
     "data": {
      "text/plain": [
       "7"
      ]
     },
     "execution_count": 48,
     "metadata": {},
     "output_type": "execute_result"
    }
   ],
   "source": [
    "# Example 2\n",
    "\n",
    "def profit(prices): # n-squared time complexity  ( O( n ) )\n",
    "    \n",
    "    max_px = 0\n",
    "    min_px = prices[0]\n",
    "    \n",
    "    for px in prices[ 1: ]:\n",
    "        \n",
    "        min_px = min( min_px, px )\n",
    "        max_px = max( px - min_px, max_px ) # difference between each price and a running minimum\n",
    "        #print(min_px)\n",
    "        #print(px)\n",
    "        #print(max_px)\n",
    "        \n",
    "    return max_px\n",
    "\n",
    "prices = (20, 18, 14, 17, 20, 21, 15)\n",
    "\n",
    "profit(prices)\n",
    "\n"
   ]
  },
  {
   "cell_type": "code",
   "execution_count": 49,
   "metadata": {},
   "outputs": [
    {
     "data": {
      "text/plain": [
       "array([73, 41, 63, ..., 33, 59, 86])"
      ]
     },
     "execution_count": 49,
     "metadata": {},
     "output_type": "execute_result"
    }
   ],
   "source": [
    "seq = np.random.randint(0, 100, size=100000)\n",
    "seq"
   ]
  },
  {
   "cell_type": "code",
   "execution_count": 50,
   "metadata": {},
   "outputs": [
    {
     "data": {
      "text/plain": [
       "99"
      ]
     },
     "execution_count": 50,
     "metadata": {},
     "output_type": "execute_result"
    }
   ],
   "source": [
    "cummin = np.minimum.accumulate\n",
    "\n",
    "def profit_with_numpy(prices):\n",
    "    \n",
    "    \"\"\"Price minus cumulative minimum price, element-wise.\"\"\"\n",
    "    \n",
    "    prices = np.asarray(prices)\n",
    "    \n",
    "    return np.max(prices - cummin(prices))\n",
    "\n",
    "profit_with_numpy(seq)"
   ]
  },
  {
   "cell_type": "code",
   "execution_count": 51,
   "metadata": {},
   "outputs": [
    {
     "name": "stdout",
     "output_type": "stream",
     "text": [
      "Speed difference: 37.4x\n"
     ]
    }
   ],
   "source": [
    "# cummin(prices) has O(n) time complexity\n",
    "# prices - cummin(prices) is O(n)\n",
    "# max(...) is O(n)\n",
    "\n",
    "# This reduces to O(n), because O(3n) reduces to just O(n)–the n “dominates” as n approaches infinity.\n",
    "\n",
    "setup = ('from __main__ import profit_with_numpy, profit, seq;'\n",
    "         ' import numpy as np')\n",
    "\n",
    "seq = np.random.randint(0, 100, size=1000)\n",
    "\n",
    "num = 250\n",
    "\n",
    "pytime = timeit('profit(seq)', setup=setup, number=num)\n",
    "nptime = timeit('profit_with_numpy(seq)', setup=setup, number=num)\n",
    "\n",
    "print('Speed difference: {:0.1f}x'.format(pytime / nptime))"
   ]
  }
 ],
 "metadata": {
  "kernelspec": {
   "display_name": "Python 3",
   "language": "python",
   "name": "python3"
  },
  "language_info": {
   "codemirror_mode": {
    "name": "ipython",
    "version": 3
   },
   "file_extension": ".py",
   "mimetype": "text/x-python",
   "name": "python",
   "nbconvert_exporter": "python",
   "pygments_lexer": "ipython3",
   "version": "3.7.1"
  }
 },
 "nbformat": 4,
 "nbformat_minor": 2
}
